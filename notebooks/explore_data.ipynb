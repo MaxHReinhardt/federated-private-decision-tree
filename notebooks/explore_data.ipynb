{
 "cells": [
  {
   "cell_type": "code",
   "execution_count": 131,
   "metadata": {
    "collapsed": true
   },
   "outputs": [],
   "source": [
    "import pandas as pd\n",
    "import numpy as np"
   ]
  },
  {
   "cell_type": "markdown",
   "source": [
    "## Exploration"
   ],
   "metadata": {
    "collapsed": false
   }
  },
  {
   "cell_type": "code",
   "execution_count": 132,
   "outputs": [
    {
     "name": "stdout",
     "output_type": "stream",
     "text": [
      "(1623, 11)\n",
      "       ID  Gender Ever_Married  Age Graduated     Profession  Work_Experience  \\\n",
      "0  462809    Male           No   22        No     Healthcare              1.0   \n",
      "1  462643  Female          Yes   38       Yes       Engineer              NaN   \n",
      "2  466315  Female          Yes   67       Yes       Engineer              1.0   \n",
      "3  461735    Male          Yes   67       Yes         Lawyer              0.0   \n",
      "4  462669  Female          Yes   40       Yes  Entertainment              NaN   \n",
      "\n",
      "  Spending_Score  Family_Size  Var_1 Segmentation  \n",
      "0            Low          4.0  Cat_4            D  \n",
      "1        Average          3.0  Cat_4            A  \n",
      "2            Low          1.0  Cat_6            B  \n",
      "3           High          2.0  Cat_6            B  \n",
      "4           High          6.0  Cat_6            A  \n"
     ]
    }
   ],
   "source": [
    "df = pd.read_csv('../data/Small.csv')\n",
    "print(df.shape)\n",
    "print(df.head())"
   ],
   "metadata": {
    "collapsed": false
   }
  },
  {
   "cell_type": "code",
   "execution_count": 133,
   "outputs": [
    {
     "data": {
      "text/plain": "ID                   0\nGender               0\nEver_Married        29\nAge                  0\nGraduated           19\nProfession          32\nWork_Experience    185\nSpending_Score       0\nFamily_Size         79\nVar_1               17\nSegmentation         0\ndtype: int64"
     },
     "execution_count": 133,
     "metadata": {},
     "output_type": "execute_result"
    }
   ],
   "source": [
    "df.isna().sum()"
   ],
   "metadata": {
    "collapsed": false
   }
  },
  {
   "cell_type": "code",
   "execution_count": 134,
   "outputs": [
    {
     "data": {
      "text/plain": "ID                 1558\nGender                2\nEver_Married          2\nAge                  67\nGraduated             2\nProfession            9\nWork_Experience      15\nSpending_Score        3\nFamily_Size           9\nVar_1                 7\nSegmentation          4\ndtype: int64"
     },
     "execution_count": 134,
     "metadata": {},
     "output_type": "execute_result"
    }
   ],
   "source": [
    "df.nunique()"
   ],
   "metadata": {
    "collapsed": false
   }
  },
  {
   "cell_type": "code",
   "execution_count": 135,
   "outputs": [
    {
     "data": {
      "text/plain": "Profession\nArtist           481\nHealthcare       266\nEntertainment    207\nEngineer         151\nDoctor           134\nLawyer           115\nExecutive        110\nMarketing         84\nHomemaker         43\nName: count, dtype: int64"
     },
     "execution_count": 135,
     "metadata": {},
     "output_type": "execute_result"
    }
   ],
   "source": [
    "df['Profession'].value_counts()"
   ],
   "metadata": {
    "collapsed": false
   }
  },
  {
   "cell_type": "code",
   "execution_count": 136,
   "outputs": [
    {
     "data": {
      "text/plain": "Var_1\nCat_6    978\nCat_4    264\nCat_3    192\nCat_2     77\nCat_7     46\nCat_1     33\nCat_5     16\nName: count, dtype: int64"
     },
     "execution_count": 136,
     "metadata": {},
     "output_type": "execute_result"
    }
   ],
   "source": [
    "df['Var_1'].value_counts()"
   ],
   "metadata": {
    "collapsed": false
   }
  },
  {
   "cell_type": "code",
   "execution_count": 137,
   "outputs": [
    {
     "data": {
      "text/plain": "Segmentation\nD    486\nA    475\nB    340\nC    322\nName: count, dtype: int64"
     },
     "execution_count": 137,
     "metadata": {},
     "output_type": "execute_result"
    }
   ],
   "source": [
    "df['Segmentation'].value_counts()"
   ],
   "metadata": {
    "collapsed": false
   }
  },
  {
   "cell_type": "markdown",
   "source": [
    "## Preprocessing"
   ],
   "metadata": {
    "collapsed": false
   }
  },
  {
   "cell_type": "code",
   "execution_count": 138,
   "outputs": [
    {
     "data": {
      "text/plain": "(1303, 11)"
     },
     "execution_count": 138,
     "metadata": {},
     "output_type": "execute_result"
    }
   ],
   "source": [
    "### Drop rows with missing values ###\n",
    "\n",
    "df = df.dropna(axis=0)\n",
    "df.shape"
   ],
   "metadata": {
    "collapsed": false
   }
  },
  {
   "cell_type": "code",
   "execution_count": 139,
   "outputs": [
    {
     "data": {
      "text/plain": "Index(['Gender', 'Ever_Married', 'Age', 'Graduated', 'Profession',\n       'Work_Experience', 'Spending_Score', 'Family_Size', 'Var_1',\n       'Segmentation'],\n      dtype='object')"
     },
     "execution_count": 139,
     "metadata": {},
     "output_type": "execute_result"
    }
   ],
   "source": [
    "### Drop ID ###\n",
    "\n",
    "df = df.drop(columns = ['ID'])\n",
    "df.columns"
   ],
   "metadata": {
    "collapsed": false
   }
  },
  {
   "cell_type": "code",
   "execution_count": 140,
   "outputs": [
    {
     "name": "stdout",
     "output_type": "stream",
     "text": [
      "Age                4\n",
      "Work_Experience    4\n",
      "Family_Size        4\n",
      "dtype: int64\n"
     ]
    }
   ],
   "source": [
    "### Group numerical variables based on quartiles ###\n",
    "\n",
    "# Function to categorize based on quartiles\n",
    "def categorize_quartiles(series):\n",
    "    quartiles = series.quantile([0.25, 0.5, 0.75])\n",
    "    return pd.cut(series, bins=[-np.inf, quartiles[0.25], quartiles[0.5], quartiles[0.75], np.inf],\n",
    "                  labels=['Q1', 'Q2', 'Q3', 'Q4'])\n",
    "\n",
    "# Apply the function to numerical columns\n",
    "for column in ['Age', 'Work_Experience', 'Family_Size']:\n",
    "    df[column] = categorize_quartiles(df[column])\n",
    "\n",
    "print(df[['Age', 'Work_Experience', 'Family_Size']].nunique())"
   ],
   "metadata": {
    "collapsed": false
   }
  },
  {
   "cell_type": "markdown",
   "source": [
    "## Check final df"
   ],
   "metadata": {
    "collapsed": false
   }
  },
  {
   "cell_type": "code",
   "execution_count": 141,
   "outputs": [
    {
     "name": "stdout",
     "output_type": "stream",
     "text": [
      "   Gender Ever_Married Age Graduated  Profession Work_Experience  \\\n",
      "0    Male           No  Q1        No  Healthcare              Q2   \n",
      "2  Female          Yes  Q4       Yes    Engineer              Q2   \n",
      "3    Male          Yes  Q4       Yes      Lawyer              Q1   \n",
      "5    Male          Yes  Q4        No      Artist              Q1   \n",
      "6    Male          Yes  Q4        No      Artist              Q1   \n",
      "\n",
      "  Spending_Score Family_Size  Var_1 Segmentation  \n",
      "0            Low          Q3  Cat_4            D  \n",
      "2            Low          Q1  Cat_6            B  \n",
      "3           High          Q1  Cat_6            B  \n",
      "5        Average          Q1  Cat_6            C  \n",
      "6            Low          Q1  Cat_6            A  \n"
     ]
    }
   ],
   "source": [
    "print(df.head())"
   ],
   "metadata": {
    "collapsed": false
   }
  },
  {
   "cell_type": "code",
   "execution_count": 141,
   "outputs": [],
   "source": [],
   "metadata": {
    "collapsed": false
   }
  }
 ],
 "metadata": {
  "kernelspec": {
   "display_name": "Python 3",
   "language": "python",
   "name": "python3"
  },
  "language_info": {
   "codemirror_mode": {
    "name": "ipython",
    "version": 2
   },
   "file_extension": ".py",
   "mimetype": "text/x-python",
   "name": "python",
   "nbconvert_exporter": "python",
   "pygments_lexer": "ipython2",
   "version": "2.7.6"
  }
 },
 "nbformat": 4,
 "nbformat_minor": 0
}
