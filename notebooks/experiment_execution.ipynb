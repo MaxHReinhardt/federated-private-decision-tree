{
 "cells": [
  {
   "cell_type": "code",
   "execution_count": 5,
   "metadata": {
    "collapsed": true
   },
   "outputs": [],
   "source": [
    "from src.experiments import *\n",
    "\n",
    "import pandas as pd"
   ]
  },
  {
   "cell_type": "code",
   "execution_count": 6,
   "outputs": [
    {
     "name": "stdout",
     "output_type": "stream",
     "text": [
      "Completed -- setting_type: centralized.\n",
      "Completed -- setting_type: federated_standard, num_clients: 1, seed: 1.\n",
      "Completed -- setting_type: federated_standard, num_clients: 1, seed: 2.\n",
      "Completed -- setting_type: federated_standard, num_clients: 3, seed: 1.\n",
      "Completed -- setting_type: federated_standard, num_clients: 3, seed: 2.\n",
      "Completed -- setting_type: federated_standard, num_clients: 6, seed: 1.\n",
      "Completed -- setting_type: federated_standard, num_clients: 6, seed: 2.\n"
     ]
    }
   ],
   "source": [
    "setting_type_list = ['centralized', 'federated_standard'] # , 'federated_private']\n",
    "num_clients_list = [1, 3, 6]\n",
    "seed_list = [1, 2]\n",
    "data_path = '../data/Full.csv'\n",
    "min_samples_split = 10\n",
    "\n",
    "results = compare_settings(setting_type_list, num_clients_list, seed_list, data_path, min_samples_split)"
   ],
   "metadata": {
    "collapsed": false
   }
  },
  {
   "cell_type": "code",
   "execution_count": 7,
   "outputs": [
    {
     "name": "stdout",
     "output_type": "stream",
     "text": [
      "         setting_type  num_clients  seed        f1  accuracy  execution_time\n",
      "0         centralized          NaN   NaN  0.409625  0.411943        3.234784\n",
      "1  federated_standard          1.0   1.0  0.409198  0.411565        6.603636\n",
      "2  federated_standard          1.0   2.0  0.409198  0.411565        6.624932\n",
      "3  federated_standard          3.0   1.0  0.409198  0.411565       18.850333\n",
      "4  federated_standard          3.0   2.0  0.409198  0.411565       18.756921\n",
      "5  federated_standard          6.0   1.0  0.409198  0.411565       36.160996\n",
      "6  federated_standard          6.0   2.0  0.409198  0.411565       36.708063\n"
     ]
    }
   ],
   "source": [
    "print(results.head(10))"
   ],
   "metadata": {
    "collapsed": false
   }
  },
  {
   "cell_type": "code",
   "execution_count": 8,
   "outputs": [],
   "source": [
    "results.to_csv('../results/test_run_1.csv', index=False)"
   ],
   "metadata": {
    "collapsed": false
   }
  },
  {
   "cell_type": "code",
   "execution_count": 9,
   "outputs": [
    {
     "name": "stdout",
     "output_type": "stream",
     "text": [
      "\\begin{table}\n",
      "\\caption{Comparison of standard, federated, and federated-private decision tree learning.}\n",
      "\\label{res_decision_tree}\n",
      "\\begin{tabular}{lrrrrr}\n",
      "\\toprule\n",
      "setting_type & num_clients & seed & f1 & accuracy & execution_time \\\\\n",
      "\\midrule\n",
      "centralized & NaN & NaN & 0.409625 & 0.411943 & 3.234784 \\\\\n",
      "federated_standard & 1.000000 & 1.000000 & 0.409198 & 0.411565 & 6.603636 \\\\\n",
      "federated_standard & 1.000000 & 2.000000 & 0.409198 & 0.411565 & 6.624932 \\\\\n",
      "federated_standard & 3.000000 & 1.000000 & 0.409198 & 0.411565 & 18.850333 \\\\\n",
      "federated_standard & 3.000000 & 2.000000 & 0.409198 & 0.411565 & 18.756921 \\\\\n",
      "federated_standard & 6.000000 & 1.000000 & 0.409198 & 0.411565 & 36.160996 \\\\\n",
      "federated_standard & 6.000000 & 2.000000 & 0.409198 & 0.411565 & 36.708063 \\\\\n",
      "\\bottomrule\n",
      "\\end{tabular}\n",
      "\\end{table}\n",
      "\n"
     ]
    }
   ],
   "source": [
    "caption = 'Comparison of standard, federated, and federated-private decision tree learning.'\n",
    "label = 'res_decision_tree'\n",
    "\n",
    "latex_code = results.to_latex(index=False, caption=caption, label=label)\n",
    "print(latex_code)"
   ],
   "metadata": {
    "collapsed": false
   }
  },
  {
   "cell_type": "code",
   "execution_count": null,
   "outputs": [],
   "source": [],
   "metadata": {
    "collapsed": false
   }
  }
 ],
 "metadata": {
  "kernelspec": {
   "display_name": "Python 3",
   "language": "python",
   "name": "python3"
  },
  "language_info": {
   "codemirror_mode": {
    "name": "ipython",
    "version": 2
   },
   "file_extension": ".py",
   "mimetype": "text/x-python",
   "name": "python",
   "nbconvert_exporter": "python",
   "pygments_lexer": "ipython2",
   "version": "2.7.6"
  }
 },
 "nbformat": 4,
 "nbformat_minor": 0
}
