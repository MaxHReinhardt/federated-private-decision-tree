{
 "cells": [
  {
   "cell_type": "code",
   "execution_count": 1,
   "metadata": {
    "collapsed": true
   },
   "outputs": [],
   "source": [
    "from src.experiments import *\n",
    "\n",
    "import pandas as pd"
   ]
  },
  {
   "cell_type": "code",
   "execution_count": 2,
   "outputs": [
    {
     "name": "stdout",
     "output_type": "stream",
     "text": [
      "Completed -- setting_type: centralized.\n",
      "Completed -- setting_type: federated_standard, num_clients: 1, seed: 1.\n",
      "Completed -- setting_type: federated_standard, num_clients: 1, seed: 2.\n",
      "Completed -- setting_type: federated_standard, num_clients: 1, seed: 3.\n",
      "Completed -- setting_type: federated_standard, num_clients: 3, seed: 1.\n",
      "Completed -- setting_type: federated_standard, num_clients: 3, seed: 2.\n",
      "Completed -- setting_type: federated_standard, num_clients: 3, seed: 3.\n",
      "Completed -- setting_type: federated_standard, num_clients: 5, seed: 1.\n",
      "Completed -- setting_type: federated_standard, num_clients: 5, seed: 2.\n",
      "Completed -- setting_type: federated_standard, num_clients: 5, seed: 3.\n",
      "Completed -- setting_type: federated_standard, num_clients: 10, seed: 1.\n",
      "Completed -- setting_type: federated_standard, num_clients: 10, seed: 2.\n",
      "Completed -- setting_type: federated_standard, num_clients: 10, seed: 3.\n",
      "Completed -- setting_type: federated_private, num_clients: 1, seed: 1.\n",
      "Completed -- setting_type: federated_private, num_clients: 1, seed: 2.\n",
      "Completed -- setting_type: federated_private, num_clients: 1, seed: 3.\n",
      "Completed -- setting_type: federated_private, num_clients: 3, seed: 1.\n",
      "Completed -- setting_type: federated_private, num_clients: 3, seed: 2.\n",
      "Completed -- setting_type: federated_private, num_clients: 3, seed: 3.\n",
      "Completed -- setting_type: federated_private, num_clients: 5, seed: 1.\n",
      "Completed -- setting_type: federated_private, num_clients: 5, seed: 2.\n",
      "Completed -- setting_type: federated_private, num_clients: 5, seed: 3.\n",
      "Completed -- setting_type: federated_private, num_clients: 10, seed: 1.\n",
      "Completed -- setting_type: federated_private, num_clients: 10, seed: 2.\n",
      "Completed -- setting_type: federated_private, num_clients: 10, seed: 3.\n"
     ]
    }
   ],
   "source": [
    "setting_type_list = ['centralized', 'federated_standard', 'federated_private']\n",
    "num_clients_list = [1, 3, 5, 10]\n",
    "seed_list = [1, 2, 3]\n",
    "data_path = '../data/Full.csv'\n",
    "min_samples_split = 50\n",
    "\n",
    "results = compare_settings(setting_type_list, num_clients_list, seed_list, data_path, min_samples_split)"
   ],
   "metadata": {
    "collapsed": false
   }
  },
  {
   "cell_type": "code",
   "execution_count": 3,
   "outputs": [
    {
     "name": "stdout",
     "output_type": "stream",
     "text": [
      "         setting_type  num_clients  seed        f1  accuracy  execution_time\n",
      "0         centralized          -99   -99  0.435274  0.445578        0.865581\n",
      "1  federated_standard            1     1  0.435274  0.445578        2.247108\n",
      "2  federated_standard            1     2  0.435274  0.445578        2.336995\n",
      "3  federated_standard            1     3  0.435274  0.445578        2.242036\n",
      "4  federated_standard            3     1  0.435274  0.445578        6.140207\n",
      "5  federated_standard            3     2  0.435274  0.445578        6.035269\n",
      "6  federated_standard            3     3  0.435274  0.445578        6.092294\n",
      "7  federated_standard            5     1  0.435274  0.445578        9.827644\n",
      "8  federated_standard            5     2  0.435274  0.445578        9.813714\n",
      "9  federated_standard            5     3  0.435274  0.445578       10.110004\n"
     ]
    }
   ],
   "source": [
    "print(results.head(10))"
   ],
   "metadata": {
    "collapsed": false
   }
  },
  {
   "cell_type": "code",
   "execution_count": 4,
   "outputs": [],
   "source": [
    "results.to_csv('../results/experiment_results.csv', index=False)"
   ],
   "metadata": {
    "collapsed": false
   }
  },
  {
   "cell_type": "code",
   "execution_count": 5,
   "outputs": [
    {
     "name": "stdout",
     "output_type": "stream",
     "text": [
      "         setting_type  num_clients        f1  accuracy  execution_time\n",
      "0         centralized          -99  0.435274  0.445578        0.865581\n",
      "1   federated_private            1  0.435274  0.445578        9.978495\n",
      "2   federated_private            3  0.435274  0.445578       71.501465\n",
      "3   federated_private            5  0.435274  0.445578      178.348410\n",
      "4   federated_private           10  0.435274  0.445578      718.480934\n",
      "5  federated_standard            1  0.435274  0.445578        2.275380\n",
      "6  federated_standard            3  0.435274  0.445578        6.089257\n",
      "7  federated_standard            5  0.435274  0.445578        9.917121\n",
      "8  federated_standard           10  0.435274  0.445578       19.230919\n"
     ]
    }
   ],
   "source": [
    "aggregated_results = results.groupby(['setting_type', 'num_clients']).mean().reset_index()\n",
    "aggregated_results = aggregated_results.drop(columns = ['seed'])\n",
    "print(aggregated_results.head(10))"
   ],
   "metadata": {
    "collapsed": false
   }
  },
  {
   "cell_type": "code",
   "execution_count": 6,
   "outputs": [
    {
     "name": "stdout",
     "output_type": "stream",
     "text": [
      "\\begin{table}\n",
      "\\caption{Comparison of standard, federated, as well as federated and privacy preserving decision tree learning.}\n",
      "\\label{res_decision_tree}\n",
      "\\begin{tabular}{lrrrr}\n",
      "\\toprule\n",
      "setting_type & num_clients & f1 & accuracy & execution_time \\\\\n",
      "\\midrule\n",
      "centralized & -99 & 0.435274 & 0.445578 & 0.865581 \\\\\n",
      "federated_private & 1 & 0.435274 & 0.445578 & 9.978495 \\\\\n",
      "federated_private & 3 & 0.435274 & 0.445578 & 71.501465 \\\\\n",
      "federated_private & 5 & 0.435274 & 0.445578 & 178.348410 \\\\\n",
      "federated_private & 10 & 0.435274 & 0.445578 & 718.480934 \\\\\n",
      "federated_standard & 1 & 0.435274 & 0.445578 & 2.275380 \\\\\n",
      "federated_standard & 3 & 0.435274 & 0.445578 & 6.089257 \\\\\n",
      "federated_standard & 5 & 0.435274 & 0.445578 & 9.917121 \\\\\n",
      "federated_standard & 10 & 0.435274 & 0.445578 & 19.230919 \\\\\n",
      "\\bottomrule\n",
      "\\end{tabular}\n",
      "\\end{table}\n",
      "\n"
     ]
    }
   ],
   "source": [
    "caption = 'Comparison of standard, federated, as well as federated and privacy preserving decision tree learning.'\n",
    "label = 'res_decision_tree'\n",
    "\n",
    "latex_code = aggregated_results.to_latex(index=False, caption=caption, label=label)\n",
    "print(latex_code)"
   ],
   "metadata": {
    "collapsed": false
   }
  },
  {
   "cell_type": "code",
   "execution_count": 6,
   "outputs": [],
   "source": [],
   "metadata": {
    "collapsed": false
   }
  }
 ],
 "metadata": {
  "kernelspec": {
   "display_name": "Python 3",
   "language": "python",
   "name": "python3"
  },
  "language_info": {
   "codemirror_mode": {
    "name": "ipython",
    "version": 2
   },
   "file_extension": ".py",
   "mimetype": "text/x-python",
   "name": "python",
   "nbconvert_exporter": "python",
   "pygments_lexer": "ipython2",
   "version": "2.7.6"
  }
 },
 "nbformat": 4,
 "nbformat_minor": 0
}
